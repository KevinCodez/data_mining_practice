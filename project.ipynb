{
 "cells": [
  {
   "cell_type": "markdown",
   "metadata": {},
   "source": [
    "# Data Mining Practice Project\n",
    "\n",
    "#### This project was written by:\n",
    "- Kyrsti Fitts\n",
    "- Shivani Merchant\n",
    "- Kevin Reynolds\n",
    "- Ryan Espejo"
   ]
  },
  {
   "cell_type": "markdown",
   "metadata": {},
   "source": [
    "<br><br><br>\n",
    "##### Step 1: Load the data\n",
    "- For the first step of this project, we will load the data from the data files.\n",
    "- The data will be loaded into a pandas data frame.\n",
    "- The data frame will be the data structure that holds our data.\n",
    "- Add attribute name rows for the data"
   ]
  },
  {
   "cell_type": "code",
   "execution_count": 220,
   "metadata": {},
   "outputs": [
    {
     "name": "stdout",
     "output_type": "stream",
     "text": [
      "Training Data Set: Read in 32561 rows and 15 columns\n",
      "Test Data Set: Read in 16281 rows and 15 columns\n"
     ]
    }
   ],
   "source": [
    "import pandas as pd\n",
    "import warnings\n",
    "import numpy as np\n",
    "import matplotlib.pyplot as plt\n",
    "from sklearn.tree import DecisionTreeClassifier\n",
    "from sklearn.metrics import confusion_matrix, ConfusionMatrixDisplay, classification_report\n",
    "\n",
    "# Load the data (replace with the actual paths to your data files) and create attribute name row\n",
    "attribute_names = ['age', 'workclass', 'fnlwgt', 'education', 'education-num', 'marital-status', 'occupation', 'relationship', 'race', 'sex', 'capital-gain', 'capital-loss', 'hours-per-week', 'native-country', 'class']\n",
    "training_data = pd.read_csv('adult/training_data.csv', names = attribute_names)\n",
    "test_data = pd.read_csv('adult/test_data.csv', names=attribute_names)\n",
    "\n",
    "# Print number of rows and colums\n",
    "training_rows_length, training_columns_length = training_data.shape\n",
    "test_rows_length, test_columns_length = test_data.shape\n",
    "\n",
    "\n",
    "print(f\"Training Data Set: Read in {training_rows_length} rows and {training_columns_length} columns\")\n",
    "print(f\"Test Data Set: Read in {test_rows_length} rows and {test_columns_length} columns\")"
   ]
  },
  {
   "cell_type": "markdown",
   "metadata": {},
   "source": [
    "<br><br>\n",
    "##### Step 2: Remove rows containing unknown data\n",
    "- Replace '?' characters with pandas 'NA' objects.\n",
    "- Use the \"dropna()\" method to remove the rows."
   ]
  },
  {
   "cell_type": "code",
   "execution_count": 221,
   "metadata": {},
   "outputs": [
    {
     "name": "stdout",
     "output_type": "stream",
     "text": [
      "0         <=50K\n",
      "1         <=50K\n",
      "2          >50K\n",
      "3          >50K\n",
      "5         <=50K\n",
      "          ...  \n",
      "16275     <=50K\n",
      "16276     <=50K\n",
      "16278     <=50K\n",
      "16279     <=50K\n",
      "16280      >50K\n",
      "Name: class, Length: 15060, dtype: object\n",
      "Training Data Set: Removed 2399 rows containing unknown values\n",
      "Test Data Set: Removed 1221 rows containing unknown values\n"
     ]
    }
   ],
   "source": [
    "# Remove records with unknown \"?\" values\n",
    "training_data = training_data.replace(' ?', pd.NA)\n",
    "training_data = training_data.dropna()\n",
    "\n",
    "test_data = test_data.replace(' ?', pd.NA)\n",
    "test_data = test_data.dropna()\n",
    "\n",
    "# Remove period from income in the test data\n",
    "test_data = test_data.replace(' <=50K.', ' <=50K')\n",
    "test_data = test_data.replace(' >50K.', ' >50K')\n",
    "\n",
    "print(test_data['class'])\n",
    "\n",
    "# Display results\n",
    "print(f\"Training Data Set: Removed {training_rows_length - training_data.shape[0]} rows containing unknown values\")\n",
    "print(f\"Test Data Set: Removed {test_rows_length - test_data.shape[0]} rows containing unknown values\")"
   ]
  },
  {
   "cell_type": "markdown",
   "metadata": {},
   "source": [
    "Step 3: Remove All Continuous Attributes\n",
    "- Continuous Attrbutes: age, fnlwgt, education-num, capital-gain, capital-loss, hours-per-week\n",
    "- Drop these attributes from both pandas data frames"
   ]
  },
  {
   "cell_type": "code",
   "execution_count": 222,
   "metadata": {},
   "outputs": [
    {
     "name": "stdout",
     "output_type": "stream",
     "text": [
      "Training dataset columns before continuous attribute deletion\n",
      "Index(['age', 'workclass', 'fnlwgt', 'education', 'education-num',\n",
      "       'marital-status', 'occupation', 'relationship', 'race', 'sex',\n",
      "       'capital-gain', 'capital-loss', 'hours-per-week', 'native-country',\n",
      "       'class'],\n",
      "      dtype='object')\n",
      "Test dataset columns before continuous attribute deletion\n",
      "Index(['age', 'workclass', 'fnlwgt', 'education', 'education-num',\n",
      "       'marital-status', 'occupation', 'relationship', 'race', 'sex',\n",
      "       'capital-gain', 'capital-loss', 'hours-per-week', 'native-country',\n",
      "       'class'],\n",
      "      dtype='object')\n",
      "Training dataset columns after continuous atribute deletion\n",
      "Index(['workclass', 'education', 'marital-status', 'occupation',\n",
      "       'relationship', 'race', 'sex', 'native-country', 'class'],\n",
      "      dtype='object')\n",
      "Test dataset columns after continuous atribute deletion\n",
      "Index(['workclass', 'education', 'marital-status', 'occupation',\n",
      "       'relationship', 'race', 'sex', 'native-country', 'class'],\n",
      "      dtype='object')\n"
     ]
    }
   ],
   "source": [
    "print(\"Training dataset columns before continuous attribute deletion\")\n",
    "print(training_data.columns)\n",
    "print(\"Test dataset columns before continuous attribute deletion\")\n",
    "print(test_data.columns)\n",
    "\n",
    "training_data.drop('age',inplace = True, axis=1)\n",
    "training_data.drop('fnlwgt',inplace = True, axis=1)\n",
    "training_data.drop('education-num',inplace = True, axis=1)\n",
    "training_data.drop('capital-gain',inplace = True, axis=1)\n",
    "training_data.drop('capital-loss',inplace = True, axis=1)\n",
    "training_data.drop('hours-per-week',inplace = True, axis=1)\n",
    "\n",
    "test_data.drop('age',inplace = True, axis=1)\n",
    "test_data.drop('fnlwgt',inplace = True, axis=1)\n",
    "test_data.drop('education-num',inplace = True, axis=1)\n",
    "test_data.drop('capital-gain',inplace = True, axis=1)\n",
    "test_data.drop('capital-loss',inplace = True, axis=1)\n",
    "test_data.drop('hours-per-week',inplace = True, axis=1)\n",
    "\n",
    "print(\"Training dataset columns after continuous atribute deletion\")\n",
    "print(training_data.columns)\n",
    "print(\"Test dataset columns after continuous atribute deletion\")\n",
    "print(test_data.columns)\n"
   ]
  },
  {
   "cell_type": "markdown",
   "metadata": {},
   "source": [
    "Step 4: Use one-hot encoding to transform data on each multi-domain categorial attribute\n",
    "- Using scikit-learn to one-hot encode all the categorical data into numerical data so that it can be used in the algorithms for the next steps\n",
    "- doing this on the training data"
   ]
  },
  {
   "cell_type": "code",
   "execution_count": 223,
   "metadata": {},
   "outputs": [
    {
     "name": "stdout",
     "output_type": "stream",
     "text": [
      "Training Data:\n",
      "   workclass_ Federal-gov  workclass_ Local-gov  workclass_ Private  \\\n",
      "0                   False                 False               False   \n",
      "1                   False                 False               False   \n",
      "2                   False                 False                True   \n",
      "3                   False                 False                True   \n",
      "4                   False                 False                True   \n",
      "\n",
      "   workclass_ Self-emp-inc  workclass_ Self-emp-not-inc  workclass_ State-gov  \\\n",
      "0                    False                        False                  True   \n",
      "1                    False                         True                 False   \n",
      "2                    False                        False                 False   \n",
      "3                    False                        False                 False   \n",
      "4                    False                        False                 False   \n",
      "\n",
      "   workclass_ Without-pay  education_ 10th  education_ 11th  education_ 12th  \\\n",
      "0                   False            False            False            False   \n",
      "1                   False            False            False            False   \n",
      "2                   False            False            False            False   \n",
      "3                   False            False             True            False   \n",
      "4                   False            False            False            False   \n",
      "\n",
      "   ...  native-country_ Scotland  native-country_ South  \\\n",
      "0  ...                     False                  False   \n",
      "1  ...                     False                  False   \n",
      "2  ...                     False                  False   \n",
      "3  ...                     False                  False   \n",
      "4  ...                     False                  False   \n",
      "\n",
      "   native-country_ Taiwan  native-country_ Thailand  \\\n",
      "0                   False                     False   \n",
      "1                   False                     False   \n",
      "2                   False                     False   \n",
      "3                   False                     False   \n",
      "4                   False                     False   \n",
      "\n",
      "   native-country_ Trinadad&Tobago  native-country_ United-States  \\\n",
      "0                            False                           True   \n",
      "1                            False                           True   \n",
      "2                            False                           True   \n",
      "3                            False                           True   \n",
      "4                            False                          False   \n",
      "\n",
      "   native-country_ Vietnam  native-country_ Yugoslavia  class_ <=50K  \\\n",
      "0                    False                       False          True   \n",
      "1                    False                       False          True   \n",
      "2                    False                       False          True   \n",
      "3                    False                       False          True   \n",
      "4                    False                       False          True   \n",
      "\n",
      "   class_ >50K  \n",
      "0        False  \n",
      "1        False  \n",
      "2        False  \n",
      "3        False  \n",
      "4        False  \n",
      "\n",
      "[5 rows x 100 columns]\n"
     ]
    }
   ],
   "source": [
    "# One hot encoding on the training and test data\n",
    "training_data = pd.get_dummies(training_data)\n",
    "test_data = pd.get_dummies(test_data)\n",
    "\n",
    "# Printing new data head with encoded categorical data\n",
    "print(\"Training Data:\")\n",
    "print(training_data.head())"
   ]
  },
  {
   "cell_type": "markdown",
   "metadata": {},
   "source": [
    "<br><br>\n",
    "##### Step 3: Build a decision tree classifier\n",
    "- Separate the targets (income) into two separate dataframes\n",
    "- X_train = all columns except income\n",
    "- Y_train = only the income columns\n",
    "- Create and fit the decision tree classifier\n",
    "- Print a classification report\n",
    "- Print a confusion matrix"
   ]
  },
  {
   "cell_type": "code",
   "execution_count": 224,
   "metadata": {},
   "outputs": [
    {
     "name": "stdout",
     "output_type": "stream",
     "text": [
      "              precision    recall  f1-score   support\n",
      "\n",
      "class_ <=50K       0.86      0.90      0.88     11360\n",
      " class_ >50K       0.63      0.53      0.58      3700\n",
      "\n",
      "    accuracy                           0.81     15060\n",
      "   macro avg       0.74      0.72      0.73     15060\n",
      "weighted avg       0.80      0.81      0.80     15060\n",
      "\n",
      "Confusion Matrix:\n",
      "[[10220  1140]\n",
      " [ 1729  1971]]\n",
      "\n",
      "10220 -> Accurately predicted income >50K\n",
      "1971 -> Accurately predicted income <=50K\n",
      "1729 -> Incorrectly predicted income to be >50K when it was actually <=50K\n",
      "1140 -> Incorrectly predicted income to be <=50K when is was actually >50k\n"
     ]
    },
    {
     "data": {
      "image/png": "[encoded data removed]",
      "text/plain": [
       "<Figure size 432x288 with 2 Axes>"
      ]
     },
     "metadata": {
      "needs_background": "light"
     },
     "output_type": "display_data"
    }
   ],
   "source": [
    "# Separate the target variables in training_data\n",
    "X_train = training_data.drop(columns=[\"class_ <=50K\", \"class_ >50K\"])\n",
    "y_train = training_data[[\"class_ <=50K\", \"class_ >50K\"]]\n",
    "\n",
    "# Separate the target variables in test_data\n",
    "X_test = test_data.drop(columns=[\"class_ <=50K\", \"class_ >50K\"])\n",
    "y_test = test_data[[\"class_ <=50K\", \"class_ >50K\"]].idxmax(axis=1)\n",
    "X_test['native-country_ Holand-Netherlands'] = 0 # Add missing column\n",
    "\n",
    "warnings.filterwarnings('ignore') # Ignore deprecation warnings\n",
    "\n",
    "# Create a decision tree classifier and fit it to the training data\n",
    "clf = DecisionTreeClassifier()\n",
    "clf.fit(X_train, y_train)\n",
    "\n",
    "# Predict the targets of the test data\n",
    "y_test_prediction = clf.predict(X_test)\n",
    "\n",
    "# Get the index of the maximum value in each row to get the predicted class labels\n",
    "y_test_prediction = pd.DataFrame(y_test_prediction, columns=[\"class_ <=50K\", \"class_ >50K\"]).idxmax(axis=1)\n",
    "\n",
    "# Print classification report\n",
    "print(classification_report(y_test, y_test_prediction))\n",
    "\n",
    "# Create confusion matrix\n",
    "cm = confusion_matrix(y_test, y_test_prediction, labels=y_test.unique())\n",
    "\n",
    "# Print the confusion matrix\n",
    "print(\"Confusion Matrix:\")\n",
    "print(cm)\n",
    "\n",
    "print(\"\\n\" + str(cm[0][0])+ \" -> Accurately predicted income >50K\")\n",
    "print(str(cm[1][1]) + \" -> Accurately predicted income <=50K\")\n",
    "print(str(cm[1][0]) + \" -> Incorrectly predicted income to be >50K when it was actually <=50K\")\n",
    "print(str(cm[0][1]) + \" -> Incorrectly predicted income to be <=50K when is was actually >50k\")\n",
    "\n",
    "# More fancy way of displaying the matrix graphically\n",
    "disp = ConfusionMatrixDisplay(confusion_matrix=cm)\n",
    "disp.plot()\n",
    "plt.show()"
   ]
  }
 ],
 "metadata": {
  "kernelspec": {
   "display_name": "Python 3",
   "language": "python",
   "name": "python3"
  },
  "language_info": {
   "codemirror_mode": {
    "name": "ipython",
    "version": 3
   },
   "file_extension": ".py",
   "mimetype": "text/x-python",
   "name": "python",
   "nbconvert_exporter": "python",
   "pygments_lexer": "ipython3",
   "version": "3.9.5"
  },
  "orig_nbformat": 4
 },
 "nbformat": 4,
 "nbformat_minor": 2
}
