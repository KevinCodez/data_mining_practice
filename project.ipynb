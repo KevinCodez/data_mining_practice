{
 "cells": [
  {
   "cell_type": "markdown",
   "metadata": {},
   "source": [
    "# Data Mining Practice Project\n",
    "\n",
    "#### This project was written by:\n",
    "- Kyrsti Fitts\n",
    "- Shivani Merchant\n",
    "- Kevin Reynolds\n",
    "- Ryan Espejo"
   ]
  },
  {
   "cell_type": "markdown",
   "metadata": {},
   "source": [
    "<br><br><br>\n",
    "##### Step 1: Load the data\n",
    "- For the first step of this project, we will load the data from the data files.\n",
    "- The data will be loaded into a pandas data frame.\n",
    "- The data frame will be the data structure that holds our data.\n",
    "- Add attribute name rows for the data"
   ]
  },
  {
   "cell_type": "code",
   "execution_count": 64,
   "metadata": {},
   "outputs": [
    {
     "name": "stdout",
     "output_type": "stream",
     "text": [
      "Training Data Set: Read in 32561 rows and 15 columns\n",
      "Test Data Set: Read in 16281 rows and 15 columns\n"
     ]
    }
   ],
   "source": [
    "import pandas as pd\n",
    "import numpy as np\n",
    "from sklearn.preprocessing import OneHotEncoder\n",
    "\n",
    "# Load the data (replace with the actual paths to your data files) and create attribute name row\n",
    "attribute_names = ['age', 'workclass', 'fnlwgt', 'education', 'education-num', 'marital-status', 'occupation', 'relationship', 'race', 'sex', 'capital-gain', 'capital-loss', 'hours-per-week', 'native-country', 'class']\n",
    "training_data = pd.read_csv('adult/training_data.csv', names = attribute_names)\n",
    "test_data = pd.read_csv('adult/test_data.csv', names=attribute_names)\n",
    "\n",
    "# Print number of rows and colums\n",
    "training_rows_length, training_columns_length = training_data.shape\n",
    "test_rows_length, test_columns_length = test_data.shape\n",
    "\n",
    "\n",
    "print(f\"Training Data Set: Read in {training_rows_length} rows and {training_columns_length} columns\")\n",
    "print(f\"Test Data Set: Read in {test_rows_length} rows and {test_columns_length} columns\")"
   ]
  },
  {
   "cell_type": "markdown",
   "metadata": {},
   "source": [
    "<br><br>\n",
    "##### Step 2: Remove rows containing unknown data\n",
    "- Replace '?' characters with pandas 'NA' objects.\n",
    "- Use the \"dropna()\" method to remove the rows."
   ]
  },
  {
   "cell_type": "code",
   "execution_count": 65,
   "metadata": {},
   "outputs": [
    {
     "name": "stdout",
     "output_type": "stream",
     "text": [
      "Training Data Set: Removed 2399 rows containing unknown values\n",
      "Test Data Set: Removed 1221 rows containing unknown values\n"
     ]
    }
   ],
   "source": [
    "# Remove records with unknown \"?\" values\n",
    "training_data = training_data.replace(' ?', pd.NA)\n",
    "training_data = training_data.dropna()\n",
    "\n",
    "test_data = test_data.replace(' ?', pd.NA)\n",
    "test_data = test_data.dropna()\n",
    "\n",
    "# Display results\n",
    "print(f\"Training Data Set: Removed {training_rows_length - training_data.shape[0]} rows containing unknown values\")\n",
    "print(f\"Test Data Set: Removed {test_rows_length - test_data.shape[0]} rows containing unknown values\")"
   ]
  },
  {
   "cell_type": "markdown",
   "metadata": {},
   "source": [
    "Step 3: Remove All Continuous Attributes\n",
    "- Continuous Attrbutes: age, fnlwgt, education-num, capital-gain, capital-loss, hours-per-week\n",
    "- Drop these attributes from both pandas data frames"
   ]
  },
  {
   "cell_type": "code",
   "execution_count": 66,
   "metadata": {},
   "outputs": [
    {
     "name": "stdout",
     "output_type": "stream",
     "text": [
      "Training dataset columns before continuous attribute deletion\n",
      "Index(['age', 'workclass', 'fnlwgt', 'education', 'education-num',\n",
      "       'marital-status', 'occupation', 'relationship', 'race', 'sex',\n",
      "       'capital-gain', 'capital-loss', 'hours-per-week', 'native-country',\n",
      "       'class'],\n",
      "      dtype='object')\n",
      "Test dataset columns before continuous attribute deletion\n",
      "Index(['age', 'workclass', 'fnlwgt', 'education', 'education-num',\n",
      "       'marital-status', 'occupation', 'relationship', 'race', 'sex',\n",
      "       'capital-gain', 'capital-loss', 'hours-per-week', 'native-country',\n",
      "       'class'],\n",
      "      dtype='object')\n",
      "Training dataset columns after continuous atribute deletion\n",
      "Index(['workclass', 'education', 'marital-status', 'occupation',\n",
      "       'relationship', 'race', 'sex', 'native-country', 'class'],\n",
      "      dtype='object')\n",
      "Test dataset columns after continuous atribute deletion\n",
      "Index(['workclass', 'education', 'marital-status', 'occupation',\n",
      "       'relationship', 'race', 'sex', 'native-country', 'class'],\n",
      "      dtype='object')\n"
     ]
    }
   ],
   "source": [
    "print(\"Training dataset columns before continuous attribute deletion\")\n",
    "print(training_data.columns)\n",
    "print(\"Test dataset columns before continuous attribute deletion\")\n",
    "print(test_data.columns)\n",
    "\n",
    "training_data.drop('age',inplace = True, axis=1)\n",
    "training_data.drop('fnlwgt',inplace = True, axis=1)\n",
    "training_data.drop('education-num',inplace = True, axis=1)\n",
    "training_data.drop('capital-gain',inplace = True, axis=1)\n",
    "training_data.drop('capital-loss',inplace = True, axis=1)\n",
    "training_data.drop('hours-per-week',inplace = True, axis=1)\n",
    "\n",
    "test_data.drop('age',inplace = True, axis=1)\n",
    "test_data.drop('fnlwgt',inplace = True, axis=1)\n",
    "test_data.drop('education-num',inplace = True, axis=1)\n",
    "test_data.drop('capital-gain',inplace = True, axis=1)\n",
    "test_data.drop('capital-loss',inplace = True, axis=1)\n",
    "test_data.drop('hours-per-week',inplace = True, axis=1)\n",
    "\n",
    "print(\"Training dataset columns after continuous atribute deletion\")\n",
    "print(training_data.columns)\n",
    "print(\"Test dataset columns after continuous atribute deletion\")\n",
    "print(test_data.columns)\n"
   ]
  },
  {
   "cell_type": "markdown",
   "metadata": {},
   "source": [
    "Step 4: Use one-hot encoding to transform data on each multi-domain categorial attribute\n",
    "- Using scikit-learn to one-hot encode all the categorical data into numerical data so that it can be used in the algorithms for the next steps\n",
    "- doing this on the training data"
   ]
  },
  {
   "cell_type": "code",
   "execution_count": 67,
   "metadata": {},
   "outputs": [
    {
     "name": "stdout",
     "output_type": "stream",
     "text": [
      "           workclass   education       marital-status          occupation  \\\n",
      "0          State-gov   Bachelors        Never-married        Adm-clerical   \n",
      "1   Self-emp-not-inc   Bachelors   Married-civ-spouse     Exec-managerial   \n",
      "2            Private     HS-grad             Divorced   Handlers-cleaners   \n",
      "3            Private        11th   Married-civ-spouse   Handlers-cleaners   \n",
      "4            Private   Bachelors   Married-civ-spouse      Prof-specialty   \n",
      "\n",
      "     relationship    race      sex  native-country   class  \n",
      "0   Not-in-family   White     Male   United-States   <=50K  \n",
      "1         Husband   White     Male   United-States   <=50K  \n",
      "2   Not-in-family   White     Male   United-States   <=50K  \n",
      "3         Husband   Black     Male   United-States   <=50K  \n",
      "4            Wife   Black   Female            Cuba   <=50K  \n",
      "   workclass_new  education_new  marital-status_new  occupation_new  \\\n",
      "0              5              9                   4               0   \n",
      "1              4              9                   2               3   \n",
      "2              2             11                   0               5   \n",
      "3              2              1                   2               5   \n",
      "4              2              9                   2               9   \n",
      "\n",
      "   relationship_new  race_new  sex_new  native-country_new  class_new  \n",
      "0                 1         4        1                  38          0  \n",
      "1                 0         4        1                  38          0  \n",
      "2                 1         4        1                  38          0  \n",
      "3                 0         2        1                  38          0  \n",
      "4                 5         2        0                   4          0  \n"
     ]
    }
   ],
   "source": [
    "#printing og head\n",
    "print(training_data.head())\n",
    "\n",
    "#getting data typed\n",
    "training_data['workclass'] = training_data['workclass'].astype('category')\n",
    "training_data['education'] = training_data['education'].astype('category')\n",
    "training_data['marital-status'] = training_data['marital-status'].astype('category')\n",
    "training_data['occupation'] = training_data['occupation'].astype('category')\n",
    "training_data['relationship'] = training_data['relationship'].astype('category')\n",
    "training_data['race'] = training_data['race'].astype('category')\n",
    "training_data['sex'] = training_data['sex'].astype('category')\n",
    "training_data['native-country'] = training_data['native-country'].astype('category')\n",
    "training_data['class'] = training_data['class'].astype('category')\n",
    "\n",
    "#getting category data codes\n",
    "training_data['workclass_new'] = training_data['workclass'].cat.codes\n",
    "training_data['education_new'] = training_data['education'].cat.codes\n",
    "training_data['marital-status_new'] = training_data['marital-status'].cat.codes\n",
    "training_data['occupation_new'] = training_data['occupation'].cat.codes\n",
    "training_data['relationship_new'] = training_data['relationship'].cat.codes\n",
    "training_data['race_new'] = training_data['race'].cat.codes\n",
    "training_data['sex_new'] = training_data['sex'].cat.codes\n",
    "training_data['native-country_new'] = training_data['native-country'].cat.codes\n",
    "training_data['class_new'] = training_data['class'].cat.codes\n",
    "\n",
    "#creating one-hot encoder\n",
    "enc = OneHotEncoder()\n",
    "\n",
    "#apending codified data to the data frame\n",
    "enc_data = pd.DataFrame(enc.fit_transform(training_data[['workclass_new', 'education_new', 'marital-status_new', 'occupation_new', 'relationship_new', 'race_new', 'sex_new', 'native-country_new', 'class_new']]).toarray())\n",
    "training_data_new = training_data.join(enc_data)\n",
    "\n",
    "#removing old version of data\n",
    "training_data.drop('workclass',inplace = True, axis=1)\n",
    "training_data.drop('education',inplace = True, axis=1)\n",
    "training_data.drop('marital-status',inplace = True, axis=1)\n",
    "training_data.drop('occupation',inplace = True, axis=1)\n",
    "training_data.drop('relationship',inplace = True, axis=1)\n",
    "training_data.drop('race',inplace = True, axis=1)\n",
    "training_data.drop('sex',inplace = True, axis=1)\n",
    "training_data.drop('native-country',inplace = True, axis=1)\n",
    "training_data.drop('class',inplace = True, axis=1)\n",
    "\n",
    "#printing new data head with categorical data transformed into numerical data\n",
    "print(training_data.head())"
   ]
  },
  {
   "cell_type": "markdown",
   "metadata": {},
   "source": [
    "Step 4 Part 2:\n",
    "- Repeat step 4 on the test_data"
   ]
  },
  {
   "cell_type": "code",
   "execution_count": 68,
   "metadata": {},
   "outputs": [
    {
     "name": "stdout",
     "output_type": "stream",
     "text": [
      "    workclass      education       marital-status          occupation  \\\n",
      "0     Private           11th        Never-married   Machine-op-inspct   \n",
      "1     Private        HS-grad   Married-civ-spouse     Farming-fishing   \n",
      "2   Local-gov     Assoc-acdm   Married-civ-spouse     Protective-serv   \n",
      "3     Private   Some-college   Married-civ-spouse   Machine-op-inspct   \n",
      "5     Private           10th        Never-married       Other-service   \n",
      "\n",
      "     relationship    race    sex  native-country    class  \n",
      "0       Own-child   Black   Male   United-States   <=50K.  \n",
      "1         Husband   White   Male   United-States   <=50K.  \n",
      "2         Husband   White   Male   United-States    >50K.  \n",
      "3         Husband   Black   Male   United-States    >50K.  \n",
      "5   Not-in-family   White   Male   United-States   <=50K.  \n",
      "   workclass_new  education_new  marital-status_new  occupation_new  \\\n",
      "0              2              1                   4               6   \n",
      "1              2             11                   2               4   \n",
      "2              1              7                   2              10   \n",
      "3              2             15                   2               6   \n",
      "5              2              0                   4               7   \n",
      "\n",
      "   relationship_new  race_new  sex_new  native-country_new  class_new  \n",
      "0                 3         2        1                  37          0  \n",
      "1                 0         4        1                  37          0  \n",
      "2                 0         4        1                  37          1  \n",
      "3                 0         2        1                  37          1  \n",
      "5                 1         4        1                  37          0  \n"
     ]
    }
   ],
   "source": [
    "#printing og head\n",
    "print(test_data.head())\n",
    "\n",
    "#getting data typed\n",
    "test_data['workclass'] = test_data['workclass'].astype('category')\n",
    "test_data['education'] = test_data['education'].astype('category')\n",
    "test_data['marital-status'] = test_data['marital-status'].astype('category')\n",
    "test_data['occupation'] = test_data['occupation'].astype('category')\n",
    "test_data['relationship'] = test_data['relationship'].astype('category')\n",
    "test_data['race'] = test_data['race'].astype('category')\n",
    "test_data['sex'] = test_data['sex'].astype('category')\n",
    "test_data['native-country'] = test_data['native-country'].astype('category')\n",
    "test_data['class'] = test_data['class'].astype('category')\n",
    "\n",
    "#getting category data codes\n",
    "test_data['workclass_new'] = test_data['workclass'].cat.codes\n",
    "test_data['education_new'] = test_data['education'].cat.codes\n",
    "test_data['marital-status_new'] = test_data['marital-status'].cat.codes\n",
    "test_data['occupation_new'] = test_data['occupation'].cat.codes\n",
    "test_data['relationship_new'] = test_data['relationship'].cat.codes\n",
    "test_data['race_new'] = test_data['race'].cat.codes\n",
    "test_data['sex_new'] = test_data['sex'].cat.codes\n",
    "test_data['native-country_new'] = test_data['native-country'].cat.codes\n",
    "test_data['class_new'] = test_data['class'].cat.codes\n",
    "\n",
    "#creating one-hot encoder\n",
    "enc = OneHotEncoder()\n",
    "\n",
    "#apending codified data to the data frame\n",
    "enc_data = pd.DataFrame(enc.fit_transform(test_data[['workclass_new', 'education_new', 'marital-status_new', 'occupation_new', 'relationship_new', 'race_new', 'sex_new', 'native-country_new', 'class_new']]).toarray())\n",
    "test_data_new = test_data.join(enc_data)\n",
    "\n",
    "#removing old version of data\n",
    "test_data.drop('workclass',inplace = True, axis=1)\n",
    "test_data.drop('education',inplace = True, axis=1)\n",
    "test_data.drop('marital-status',inplace = True, axis=1)\n",
    "test_data.drop('occupation',inplace = True, axis=1)\n",
    "test_data.drop('relationship',inplace = True, axis=1)\n",
    "test_data.drop('race',inplace = True, axis=1)\n",
    "test_data.drop('sex',inplace = True, axis=1)\n",
    "test_data.drop('native-country',inplace = True, axis=1)\n",
    "test_data.drop('class',inplace = True, axis=1)\n",
    "\n",
    "#printing new data head with categorical data transformed into numerical data\n",
    "print(test_data.head())"
   ]
  }
 ],
 "metadata": {
  "kernelspec": {
   "display_name": "Python 3",
   "language": "python",
   "name": "python3"
  },
  "language_info": {
   "codemirror_mode": {
    "name": "ipython",
    "version": 3
   },
   "file_extension": ".py",
   "mimetype": "text/x-python",
   "name": "python",
   "nbconvert_exporter": "python",
   "pygments_lexer": "ipython3",
   "version": "3.10.1"
  },
  "orig_nbformat": 4
 },
 "nbformat": 4,
 "nbformat_minor": 2
}
