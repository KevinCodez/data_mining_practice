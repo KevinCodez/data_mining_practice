{
 "cells": [
  {
   "cell_type": "markdown",
   "metadata": {},
   "source": [
    "# Data Mining Practice Project\n",
    "\n",
    "#### This project was written by:\n",
    "- Kyrsti Fitts\n",
    "- Shivani Merchant\n",
    "- Kevin Reynolds\n",
    "- Ryan Espejo"
   ]
  },
  {
   "cell_type": "markdown",
   "metadata": {},
   "source": [
    "<br><br><br>\n",
    "##### Step 1: Load the data\n",
    "- For the first step of this project, we will load the data from the data files.\n",
    "- The data will be loaded into a pandas data frame.\n",
    "- The data frame will be the data structure that holds our data.\n",
    "- Add attribute name rows for the data"
   ]
  },
  {
   "cell_type": "code",
   "execution_count": 41,
   "metadata": {},
   "outputs": [
    {
     "name": "stdout",
     "output_type": "stream",
     "text": [
      "Training Data Set: Read in 32561 rows and 15 columns\n",
      "Test Data Set: Read in 16281 rows and 15 columns\n"
     ]
    }
   ],
   "source": [
    "import pandas as pd\n",
    "\n",
    "# Load the data (replace with the actual paths to your data files) and create attribute name row\n",
    "attribute_names = ['age', 'workclass', 'fnlwgt', 'education', 'education-num', 'marital-status', 'occupation', 'relationship', 'race', 'sex', 'capital-gain', 'capital-loss', 'hours-per-week', 'native-country', 'class']\n",
    "training_data = pd.read_csv('adult/training_data.csv', names = attribute_names)\n",
    "test_data = pd.read_csv('adult/test_data.csv', names=attribute_names)\n",
    "\n",
    "# Print number of rows and colums\n",
    "training_rows_length, training_columns_length = training_data.shape\n",
    "test_rows_length, test_columns_length = test_data.shape\n",
    "\n",
    "\n",
    "print(f\"Training Data Set: Read in {training_rows_length} rows and {training_columns_length} columns\")\n",
    "print(f\"Test Data Set: Read in {test_rows_length} rows and {test_columns_length} columns\")"
   ]
  },
  {
   "cell_type": "markdown",
   "metadata": {},
   "source": [
    "<br><br>\n",
    "##### Step 2: Remove rows containing unknown data\n",
    "- Replace '?' characters with pandas 'NA' objects.\n",
    "- Use the \"dropna()\" method to remove the rows."
   ]
  },
  {
   "cell_type": "code",
   "execution_count": 16,
   "metadata": {},
   "outputs": [
    {
     "name": "stdout",
     "output_type": "stream",
     "text": [
      "Training Data Set: Removed 2399 rows containing unknown values\n",
      "Test Data Set: Removed 1221 rows containing unknown values\n"
     ]
    }
   ],
   "source": [
    "# Remove records with unknown \"?\" values\n",
    "training_data = training_data.replace(' ?', pd.NA)\n",
    "training_data = training_data.dropna()\n",
    "\n",
    "test_data = test_data.replace(' ?', pd.NA)\n",
    "test_data = test_data.dropna()\n",
    "\n",
    "# Display results\n",
    "print(f\"Training Data Set: Removed {training_rows_length - training_data.shape[0]} rows containing unknown values\")\n",
    "print(f\"Test Data Set: Removed {test_rows_length - test_data.shape[0]} rows containing unknown values\")"
   ]
  },
  {
   "cell_type": "markdown",
   "metadata": {},
   "source": [
    "Step 3: Remove All Continuous Attributes\n",
    "- Continuous Attrbutes: age, fnlwgt, education-num, capital-gain, capital-loss, hours-per-week\n",
    "- "
   ]
  },
  {
   "cell_type": "code",
   "execution_count": 42,
   "metadata": {},
   "outputs": [
    {
     "name": "stdout",
     "output_type": "stream",
     "text": [
      "Training dataset columns before continuous attribute deletion\n",
      "Index(['age', 'workclass', 'fnlwgt', 'education', 'education-num',\n",
      "       'marital-status', 'occupation', 'relationship', 'race', 'sex',\n",
      "       'capital-gain', 'capital-loss', 'hours-per-week', 'native-country',\n",
      "       'class'],\n",
      "      dtype='object')\n",
      "Test dataset columns before continuous attribute deletion\n",
      "Index(['age', 'workclass', 'fnlwgt', 'education', 'education-num',\n",
      "       'marital-status', 'occupation', 'relationship', 'race', 'sex',\n",
      "       'capital-gain', 'capital-loss', 'hours-per-week', 'native-country',\n",
      "       'class'],\n",
      "      dtype='object')\n",
      "Training dataset columns after continuous atribute deletion\n",
      "Index(['workclass', 'education', 'marital-status', 'occupation',\n",
      "       'relationship', 'race', 'sex', 'native-country', 'class'],\n",
      "      dtype='object')\n",
      "Test dataset columns after continuous atribute deletion\n",
      "Index(['workclass', 'education', 'marital-status', 'occupation',\n",
      "       'relationship', 'race', 'sex', 'native-country', 'class'],\n",
      "      dtype='object')\n"
     ]
    }
   ],
   "source": [
    "print(\"Training dataset columns before continuous attribute deletion\")\n",
    "print(training_data.columns)\n",
    "print(\"Test dataset columns before continuous attribute deletion\")\n",
    "print(test_data.columns)\n",
    "\n",
    "training_data.drop('age',inplace = True, axis=1)\n",
    "training_data.drop('fnlwgt',inplace = True, axis=1)\n",
    "training_data.drop('education-num',inplace = True, axis=1)\n",
    "training_data.drop('capital-gain',inplace = True, axis=1)\n",
    "training_data.drop('capital-loss',inplace = True, axis=1)\n",
    "training_data.drop('hours-per-week',inplace = True, axis=1)\n",
    "\n",
    "test_data.drop('age',inplace = True, axis=1)\n",
    "test_data.drop('fnlwgt',inplace = True, axis=1)\n",
    "test_data.drop('education-num',inplace = True, axis=1)\n",
    "test_data.drop('capital-gain',inplace = True, axis=1)\n",
    "test_data.drop('capital-loss',inplace = True, axis=1)\n",
    "test_data.drop('hours-per-week',inplace = True, axis=1)\n",
    "\n",
    "print(\"Training dataset columns after continuous atribute deletion\")\n",
    "print(training_data.columns)\n",
    "print(\"Test dataset columns after continuous atribute deletion\")\n",
    "print(test_data.columns)\n"
   ]
  }
 ],
 "metadata": {
  "kernelspec": {
   "display_name": "Python 3",
   "language": "python",
   "name": "python3"
  },
  "language_info": {
   "codemirror_mode": {
    "name": "ipython",
    "version": 3
   },
   "file_extension": ".py",
   "mimetype": "text/x-python",
   "name": "python",
   "nbconvert_exporter": "python",
   "pygments_lexer": "ipython3",
   "version": "3.10.1"
  },
  "orig_nbformat": 4
 },
 "nbformat": 4,
 "nbformat_minor": 2
}
